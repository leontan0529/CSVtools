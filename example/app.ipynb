{
 "cells": [
  {
   "cell_type": "markdown",
   "metadata": {},
   "source": [
    "# CSVtools IPython\n",
    "Use CSVtools on the fly without the hassle of running scripts:)"
   ]
  },
  {
   "cell_type": "markdown",
   "metadata": {},
   "source": [
    "### Run the 2 cells below once to set up your IPython environment before using CSVTools."
   ]
  },
  {
   "cell_type": "markdown",
   "metadata": {},
   "source": [
    "# To fix\n",
    "1. Need to save each df?\n",
    "2. After filtering df, unable to save filtered df."
   ]
  },
  {
   "cell_type": "code",
   "execution_count": null,
   "metadata": {},
   "outputs": [],
   "source": [
    "'''[OPTIONAL] Installed required pip libraries'''\n",
    "%pip install -r ../requirements.txt\n",
    "\n",
    "# If VSC shows that you do not have ipykernel, please kindly run pip install -r requirements.txt in your terminal."
   ]
  },
  {
   "cell_type": "code",
   "execution_count": null,
   "metadata": {},
   "outputs": [],
   "source": [
    "'''Import required libraries and locate CSV file'''\n",
    "import pandas as pd\n",
    "import numpy as np\n",
    "import copy\n",
    "import sys\n",
    "import os\n",
    "sys.path.append(os.path.abspath('..'))\n",
    "print(os.getcwd())\n",
    "from example import CSVtools\n",
    "\n",
    "''' EDIT THE VARIABLE BELOW'''\n",
    "file_path = r'C:\\\\Users\\\\LTANB\\\\OneDrive - Micron Technology, Inc\\\\Project\\\\plottools\\\\vnegfreecsv.csv' # amend filepath here\n",
    "''' EDIT THE VARIABLE ABOVE'''\n",
    "\n",
    "editor = CSVtools(file_path)\n",
    "editor.display_data()"
   ]
  },
  {
   "cell_type": "markdown",
   "metadata": {},
   "source": [
    "### Run this cell below until you are done using CSVtools"
   ]
  },
  {
   "cell_type": "code",
   "execution_count": null,
   "metadata": {},
   "outputs": [],
   "source": [
    "print(\"\"\"\n",
    "Choose an option\n",
    "---View Dataframes---\n",
    "1. Display current Dataframe\n",
    "2. Display previously saved Dataframe\n",
    "---View Dimensions---\n",
    "3. Get number of rows\n",
    "4. Get number of columns\n",
    "5. Get dimensions\n",
    "---Edit Dataframes---\n",
    "6. Update cell(s)\n",
    "7. Filter a column\n",
    "8. Duplicate a specific row\n",
    "9. Extract specific column(s)\n",
    "10. Overwrite previously saved Dataframe with current Dataframe\n",
    "---Make changes to CSV file---\n",
    "11. Update/Create CSV file\n",
    "\n",
    "Please select an option(1-11):\n",
    "\"\"\")\n",
    "\n",
    "prompt = int(input(\"Please select an option(1-11): \"))\n",
    "\n",
    "match prompt:\n",
    "    case 1:\n",
    "        editor.display_data()\n",
    "    case 2:\n",
    "        editor.display_saved_df()\n",
    "        print(\"\\nSaved Dataframes:\")\n",
    "    case 3:\n",
    "        print(f'\\nRows: {editor.get_rows()}')\n",
    "    case 4:\n",
    "        print(f'\\nColumns: {editor.get_columns()}')\n",
    "    case 5:\n",
    "        print(f\"\\nDimensions (RxC): {editor.get_dimensions()}\")\n",
    "    case 6:\n",
    "        save = str(input(\"\\nDo you want to save your current Dataframe before making changes? (y/n (default))\"))\n",
    "        if save.lower() == \"y\":\n",
    "            print(\"\\nPlease leave a comment for your Dataframe before saving: \")\n",
    "            comment = str(input(\"Please leave a comment for your Dataframe before saving: \"))\n",
    "            editor.save_dataframe(comment)\n",
    "        else:\n",
    "            pass\n",
    "\n",
    "        print(\"If you would like to edit multiple rows and/or columns, please provide them in a list (e.g. ['EXP', 'SEQ', 'offset'])\")\n",
    "        print(\"Which row do you want to edit?\")\n",
    "        print(f\"From row 0 to {editor.get_rows()}\")\n",
    "        row = input(\"Which row do you want to edit?\")\n",
    "        row = [int(r) for r in row.split(',')] if ',' in row else [row]\n",
    "\n",
    "        print(editor.data.columns.tolist())\n",
    "        print(\"Which column do you want to edit?\")\n",
    "        col = input(\"Which column do you want to edit?\\n\")\n",
    "        col = [str(c).strip() for c in col.split(',')] if ',' in col else [col]\n",
    "        print(f\"test col: {col}\")\n",
    "        \n",
    "        print(\"What value do you want to update with?\")\n",
    "        val = str(input(\"What value do you want to update?\"))\n",
    "        editor.update_cell(row, col, val)\n",
    "    case 7:\n",
    "        print(\"\\nWhich column do you want to filter from?\")\n",
    "        print(editor.data.columns.tolist())\n",
    "        col = str(input(\"Which column do you want to filter from?\"))\n",
    "        print(\"What do you want to filter from the following columns? (e.g. SPB)\")\n",
    "        cond = str(input(\"What do you want to filter from the following columns?\\n (e.g. SPB)\"))\n",
    "        editor.filter_data(col, cond)\n",
    "    case 8:\n",
    "        save = str(input(\"\\nDo you want to save your current Dataframe before making changes? (y/n (default))\"))\n",
    "        if save.lower() == \"y\":\n",
    "            print(\"Please leave a comment for your Dataframe before saving: \")\n",
    "            comment = str(input(\"\\nPlease leave a comment for your Dataframe before saving: \"))\n",
    "            editor.save_dataframe(comment)\n",
    "        else:\n",
    "            pass\n",
    "\n",
    "        print(\"\\nWhich row do you want to duplicate?\")\n",
    "        print(f\"From row 0 to {editor.get_rows()}\")\n",
    "        row = int(input(\"Which row do you want to duplicate?\"))\n",
    "        print(\"How many times do you want to duplicate?\")\n",
    "        times = int(input(\"How many times do you want to duplicate?\"))\n",
    "        editor.duplicate_row(row, times)\n",
    "        editor.display_data()\n",
    "    case 9:\n",
    "        print(\"\\nWhich column(s) do you want to extract?\")\n",
    "        print(editor.data.columns.tolist())\n",
    "        col = str(input(\"Which column do you want to extract from?\"))\n",
    "        col = [str(c).strip() for c in col.split(',')] if ',' in col else [col]\n",
    "        print(col)        \n",
    "        editor.extract_columns(col)\n",
    "    case 10:\n",
    "        print(\"\\nPlease leave a comment for your Dataframe before saving: \")\n",
    "        comment = str(input(\"\\nPlease leave a comment for your Dataframe before saving: \"))\n",
    "        editor.save_dataframe(comment)\n",
    "        print(\"Dataframe permanently updated.\")\n",
    "    case 11:\n",
    "        editor.save_csv()\n",
    "        print(\"\\nCSV file updated.\")\n",
    "        \n",
    "print(\"\\nREMEMBER TO SAVE TO CSV ONCE YOU ARE DONE EDITING!\")"
   ]
  },
  {
   "cell_type": "markdown",
   "metadata": {},
   "source": [
    "### Use this cell below as a reference for your Dataframes."
   ]
  },
  {
   "cell_type": "code",
   "execution_count": null,
   "metadata": {},
   "outputs": [],
   "source": [
    "'''Instant View Dataframes'''\n",
    "\n",
    "print(\"Current Dataframe\")\n",
    "editor.display_data()\n",
    "\n",
    "if len(editor.saved_df) == 1:\n",
    "    print(\"No Dataframe saved up to now.\")\n",
    "else:\n",
    "    print(\"\\nLast Saved Dataframe\")\n",
    "    print(f\"Comments: {editor.comments[1]}\\n\")\n",
    "    print(editor.saved_df[0].to_markdown())\n",
    "    "
   ]
  }
 ],
 "metadata": {
  "kernelspec": {
   "display_name": ".csvtools",
   "language": "python",
   "name": "python3"
  },
  "language_info": {
   "codemirror_mode": {
    "name": "ipython",
    "version": 3
   },
   "file_extension": ".py",
   "mimetype": "text/x-python",
   "name": "python",
   "nbconvert_exporter": "python",
   "pygments_lexer": "ipython3",
   "version": "3.10.0"
  }
 },
 "nbformat": 4,
 "nbformat_minor": 2
}
